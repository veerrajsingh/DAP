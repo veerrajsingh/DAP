{
 "cells": [
  {
   "cell_type": "code",
   "execution_count": null,
   "metadata": {},
   "outputs": [],
   "source": [
    "# Python program to Find the size of a Tuple\n",
    "def tuple_size(my_tuple):\n",
    "    return len(my_tuple)\n",
    "\n",
    "# Example usage:\n",
    "my_tuple = (1, 2, 3, 'a', 'b', 'c')\n",
    "result = tuple_size(my_tuple)\n",
    "print(\"Size of the tuple:\", result)\n"
   ]
  },
  {
   "cell_type": "code",
   "execution_count": null,
   "metadata": {},
   "outputs": [],
   "source": [
    "# Python – Maximum and Minimum K elements in Tuple\n",
    "def max_min_k_elements(my_tuple, k):\n",
    "    sorted_tuple = sorted(my_tuple)\n",
    "    max_k_elements = sorted_tuple[-k:]\n",
    "    min_k_elements = sorted_tuple[:k]\n",
    "    return max_k_elements, min_k_elements\n",
    "\n",
    "# Example usage:\n",
    "my_tuple = (5, 3, 8, 1, 7, 2, 4)\n",
    "k_value = int(input(\"Enter the value of k: \"))\n",
    "result_max, result_min = max_min_k_elements(my_tuple, k_value)\n",
    "print(f\"Maximum {k_value} elements:\", result_max)\n",
    "print(f\"Minimum {k_value} elements:\", result_min)\n"
   ]
  },
  {
   "cell_type": "code",
   "execution_count": null,
   "metadata": {},
   "outputs": [],
   "source": [
    "# Create a list of tuples from the given list having a number and its cube in each tuple\n",
    "def create_tuple_list(numbers_list):\n",
    "    tuple_list = [(num, num ** 3) for num in numbers_list]\n",
    "    return tuple_list\n",
    "\n",
    "# Example usage:\n",
    "numbers = [1, 2, 3, 4, 5]\n",
    "result = create_tuple_list(numbers)\n",
    "print(\"List of tuples with number and its cube:\", result)\n"
   ]
  },
  {
   "cell_type": "code",
   "execution_count": null,
   "metadata": {},
   "outputs": [],
   "source": [
    "# Python – Adding Tuple to List and vice – versa\n",
    "def add_tuple_to_list_and_reverse(my_list, my_tuple):\n",
    "    updated_list = my_list + list(my_tuple)\n",
    "    reversed_tuple = tuple(reversed(my_tuple))\n",
    "    return updated_list, reversed_tuple\n",
    "\n",
    "# Example usage:\n",
    "original_list = [1, 2, 3]\n",
    "new_tuple = (4, 5, 6)\n",
    "result_list, result_tuple = add_tuple_to_list_and_reverse(original_list, new_tuple)\n",
    "print(\"List after adding tuple:\", result_list)\n",
    "print(\"Reversed tuple:\", result_tuple)\n"
   ]
  },
  {
   "cell_type": "code",
   "execution_count": null,
   "metadata": {},
   "outputs": [],
   "source": [
    "# Python – Closest Pair to Kth index element in Tuple\n",
    "def closest_pair_to_kth_index(my_tuple, k):\n",
    "    closest_pair = min(my_tuple, key=lambda x: abs(x - k))\n",
    "    return closest_pair\n",
    "\n",
    "# Example usage:\n",
    "my_tuple = (10, 20, 30, 40, 50)\n",
    "k_value = int(input(\"Enter the value of k: \"))\n",
    "result = closest_pair_to_kth_index(my_tuple, k_value)\n",
    "print(f\"Closest pair to {k_value}th index element:\", result)\n"
   ]
  },
  {
   "cell_type": "code",
   "execution_count": null,
   "metadata": {},
   "outputs": [],
   "source": [
    "# Python – Join Tuples if similar initial element\n",
    "def join_tuples_with_similar_initial_element(tuple_list):\n",
    "    result_dict = {}\n",
    "    for tpl in tuple_list:\n",
    "        initial_element = tpl[0]\n",
    "        if initial_element in result_dict:\n",
    "            result_dict[initial_element] += tpl[1:]\n",
    "        else:\n",
    "            result_dict[initial_element] = tpl\n",
    "\n",
    "    result_list = [tuple(value) for value in result_dict.values()]\n",
    "    return result_list\n",
    "\n",
    "# Example usage:\n",
    "tuple_list = [(1, 2), (1, 3), (2, 4), (3, 5), (3, 6)]\n",
    "result = join_tuples_with_similar_initial_element(tuple_list)\n",
    "print(\"Joined tuples with similar initial element:\", result)\n"
   ]
  },
  {
   "cell_type": "code",
   "execution_count": null,
   "metadata": {},
   "outputs": [],
   "source": [
    "# Python – Extract digits from Tuple list\n",
    "def extract_digits_from_tuples(tuple_list):\n",
    "    digits_list = [digit for tpl in tuple_list for digit in str(tpl[0])]\n",
    "    return list(map(int, digits_list))\n",
    "\n",
    "# Example usage:\n",
    "tuple_list = [(123, 'abc'), (456, 'def'), (789, 'ghi')]\n",
    "result = extract_digits_from_tuples(tuple_list)\n",
    "print(\"Extracted digits from Tuple list:\", result)\n"
   ]
  },
  {
   "cell_type": "code",
   "execution_count": null,
   "metadata": {},
   "outputs": [],
   "source": [
    "# Python – All pair combinations of 2 tuples\n",
    "def all_pair_combinations(tuple1, tuple2):\n",
    "    pairs = [(x, y) for x in tuple1 for y in tuple2]\n",
    "    return pairs\n",
    "\n",
    "# Example usage:\n",
    "tuple1 = (1, 2)\n",
    "tuple2 = ('a', 'b')\n",
    "result = all_pair_combinations(tuple1, tuple2)\n",
    "print(\"All pair combinations of 2 tuples:\", result)\n"
   ]
  },
  {
   "cell_type": "code",
   "execution_count": null,
   "metadata": {},
   "outputs": [],
   "source": [
    "# Python – Remove Tuples of Length K\n",
    "def remove_tuples_of_length_k(tuple_list, k):\n",
    "    filtered_list = [tpl for tpl in tuple_list if len(tpl) != k]\n",
    "    return filtered_list\n",
    "\n",
    "# Example usage:\n",
    "tuple_list = [(1, 2), ('a', 'b', 'c'), (3, 4, 5), ('x', 'y')]\n",
    "k_value = int(input(\"Enter the value of k: \"))\n",
    "result = remove_tuples_of_length_k(tuple_list, k_value)\n",
    "print(f\"Tuples after removing of length {k_value}:\", result)\n"
   ]
  },
  {
   "cell_type": "code",
   "execution_count": null,
   "metadata": {},
   "outputs": [],
   "source": [
    "# Sort a list of tuples by the second Item\n",
    "def sort_tuples_by_second_item(tuple_list):\n",
    "    sorted_list = sorted(tuple_list, key=lambda x: x[1])\n",
    "    return sorted_list\n",
    "\n",
    "# Example usage:\n",
    "tuple_list = [(3, 1), (1, 2), (2, 3), (4, 4)]\n",
    "result = sort_tuples_by_second_item(tuple_list)\n",
    "print(\"Sorted list of tuples by the second item:\", result)\n"
   ]
  },
  {
   "cell_type": "code",
   "execution_count": null,
   "metadata": {},
   "outputs": [],
   "source": [
    "# Python program to Order Tuples using an external List\n",
    "def order_tuples_using_external_list(tuple_list, order_list):\n",
    "    ordered_list = sorted(tuple_list, key=lambda x: order_list.index(x[0]))\n",
    "    return ordered_list\n",
    "\n",
    "# Example usage:\n",
    "tuple_list = [('b', 2), ('a', 1), ('c', 3), ('d', 4)]\n",
    "order_list = ['a', 'b', 'c', 'd']\n",
    "result = order_tuples_using_external_list(tuple_list, order_list)\n",
    "print(\"Tuples ordered using an external list:\", result)\n"
   ]
  },
  {
   "cell_type": "code",
   "execution_count": null,
   "metadata": {},
   "outputs": [],
   "source": [
    "# Python – Flatten tuple of List to tuple\n",
    "def flatten_tuple_of_list(my_tuple):\n",
    "    flattened_tuple = tuple(item for sublist in my_tuple for item in sublist)\n",
    "    return flattened_tuple\n",
    "\n",
    "# Example usage:\n",
    "my_tuple = ([1, 2, 3], ['a', 'b', 'c'], [4, 5, 6])\n",
    "result = flatten_tuple_of_list(my_tuple)\n",
    "print(\"Flattened tuple of list to tuple:\", result)\n"
   ]
  },
  {
   "cell_type": "code",
   "execution_count": null,
   "metadata": {},
   "outputs": [],
   "source": [
    "# Python – Convert Nested Tuple to Custom Key Dictionary\n",
    "def nested_tuple_to_custom_key_dict(nested_tuple):\n",
    "    custom_key_dict = {key: value for key, value in nested_tuple}\n",
    "    return custom_key_dict\n",
    "\n",
    "# Example usage:\n",
    "nested_tuple = (('a', 1), ('b', 2), ('c', 3))\n",
    "result = nested_tuple_to_custom_key_dict(nested_tuple)\n",
    "print(\"Converted nested tuple to custom key dictionary:\", result)\n"
   ]
  }
 ],
 "metadata": {
  "language_info": {
   "name": "python"
  }
 },
 "nbformat": 4,
 "nbformat_minor": 2
}
