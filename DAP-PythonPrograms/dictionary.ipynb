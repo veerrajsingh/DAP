{
 "cells": [
  {
   "cell_type": "code",
   "execution_count": null,
   "metadata": {},
   "outputs": [],
   "source": [
    "# Python – Extract Unique values from dictionary values\n",
    "def extract_unique_values(dictionary):\n",
    "    unique_values = set(value for values_list in dictionary.values() for value in values_list)\n",
    "    return list(unique_values)\n",
    "\n",
    "# Example usage:\n",
    "my_dict = {'a': [1, 2, 3], 'b': [2, 3, 4], 'c': [3, 4, 5]}\n",
    "result = extract_unique_values(my_dict)\n",
    "print(\"Unique values from dictionary values:\", result)\n"
   ]
  },
  {
   "cell_type": "code",
   "execution_count": null,
   "metadata": {},
   "outputs": [],
   "source": [
    "# Python program to find the sum of all items in a dictionary\n",
    "def sum_of_items(dictionary):\n",
    "    return sum(value for values_list in dictionary.values() for value in values_list)\n",
    "\n",
    "# Example usage:\n",
    "my_dict = {'a': [1, 2, 3], 'b': [2, 3, 4], 'c': [3, 4, 5]}\n",
    "result = sum_of_items(my_dict)\n",
    "print(\"Sum of all items in the dictionary:\", result)\n"
   ]
  },
  {
   "cell_type": "code",
   "execution_count": null,
   "metadata": {},
   "outputs": [],
   "source": [
    "# Python | Ways to remove a key from a dictionary\n",
    "def remove_key(dictionary, key):\n",
    "    new_dict = {k: v for k, v in dictionary.items() if k != key}\n",
    "    return new_dict\n",
    "\n",
    "# Example usage:\n",
    "my_dict = {'a': 1, 'b': 2, 'c': 3, 'd': 4}\n",
    "key_to_remove = input(\"Enter the key to remove: \")\n",
    "result = remove_key(my_dict, key_to_remove)\n",
    "print(\"Dictionary after removing the key:\", result)\n"
   ]
  },
  {
   "cell_type": "code",
   "execution_count": null,
   "metadata": {},
   "outputs": [],
   "source": [
    "# Ways to sort a list of dictionaries by values in Python – Using itemgetter\n",
    "from operator import itemgetter\n",
    "\n",
    "def sort_dict_list_by_values(dicts_list, key):\n",
    "    sorted_list = sorted(dicts_list, key=itemgetter(key))\n",
    "    return sorted_list\n",
    "\n",
    "# Example usage:\n",
    "my_list_of_dicts = [{'name': 'Alice', 'age': 25}, {'name': 'Bob', 'age': 30}, {'name': 'Charlie', 'age': 22}]\n",
    "key_to_sort_by = 'age'\n",
    "result = sort_dict_list_by_values(my_list_of_dicts, key_to_sort_by)\n",
    "print(\"Sorted list of dictionaries by age:\", result)\n"
   ]
  },
  {
   "cell_type": "code",
   "execution_count": null,
   "metadata": {},
   "outputs": [],
   "source": [
    "# Python – Merging two Dictionaries\n",
    "def merge_dicts(dict1, dict2):\n",
    "    merged_dict = {**dict1, **dict2}\n",
    "    return merged_dict\n",
    "\n",
    "# Example usage:\n",
    "dict1 = {'a': 1, 'b': 2}\n",
    "dict2 = {'b': 3, 'c': 4}\n",
    "result = merge_dicts(dict1, dict2)\n",
    "print(\"Merged dictionary:\", result)\n"
   ]
  },
  {
   "cell_type": "code",
   "execution_count": null,
   "metadata": {},
   "outputs": [],
   "source": [
    "# Python – Convert key-values list to a flat dictionary\n",
    "def convert_to_flat_dict(keys, values):\n",
    "    flat_dict = dict(zip(keys, values))\n",
    "    return flat_dict\n",
    "\n",
    "# Example usage:\n",
    "keys_list = ['a', 'b', 'c']\n",
    "values_list = [1, 2, 3]\n",
    "result = convert_to_flat_dict(keys_list, values_list)\n",
    "print(\"Flat dictionary:\", result)\n"
   ]
  },
  {
   "cell_type": "code",
   "execution_count": null,
   "metadata": {},
   "outputs": [],
   "source": [
    "# Python – Insertion at the beginning in OrderedDict\n",
    "from collections import OrderedDict\n",
    "\n",
    "def insert_at_beginning(ordered_dict, key, value):\n",
    "    ordered_dict = OrderedDict([(key, value)] + list(ordered_dict.items()))\n",
    "    return ordered_dict\n",
    "\n",
    "# Example usage:\n",
    "my_ordered_dict = OrderedDict([('b', 2), ('c', 3)])\n",
    "key_to_insert = 'a'\n",
    "value_to_insert = 1\n",
    "result = insert_at_beginning(my_ordered_dict, key_to_insert, value_to_insert)\n",
    "print(\"OrderedDict after insertion at the beginning:\", result)\n"
   ]
  },
  {
   "cell_type": "code",
   "execution_count": null,
   "metadata": {},
   "outputs": [],
   "source": [
    "# Python | Check order of characters in a string using OrderedDict()\n",
    "from collections import OrderedDict\n",
    "\n",
    "def check_order_of_characters(s, pattern):\n",
    "    ordered_dict = OrderedDict.fromkeys(s)\n",
    "    return ''.join(ordered_dict.keys()) == pattern\n",
    "\n",
    "# Example usage:\n",
    "string = input(\"Enter a string: \")\n",
    "pattern = input(\"Enter the pattern to check order: \")\n",
    "result = check_order_of_characters(string, pattern)\n",
    "if result:\n",
    "    print(\"The order of characters in the string matches the pattern.\")\n",
    "else:\n",
    "    print(\"The order of characters in the string does not match the pattern.\")\n"
   ]
  },
  {
   "cell_type": "code",
   "execution_count": null,
   "metadata": {},
   "outputs": [],
   "source": [
    "# Dictionary and counter in Python to find the winner of an election\n",
    "from collections import Counter\n",
    "\n",
    "def find_election_winner(votes):\n",
    "    vote_count = Counter(votes)\n",
    "    winner = max(vote_count, key=vote_count.get)\n",
    "    return winner\n",
    "\n",
    "# Example usage:\n",
    "votes_list = ['Alice', 'Bob', 'Alice', 'Charlie', 'Charlie', 'Bob', 'Alice', 'Charlie']\n",
    "result = find_election_winner(votes_list)\n",
    "print(\"Winner of the election:\", result)\n"
   ]
  },
  {
   "cell_type": "code",
   "execution_count": null,
   "metadata": {},
   "outputs": [],
   "source": [
    "# Python – Append Dictionary Keys and Values (In order) in dictionary\n",
    "def append_keys_and_values(d):\n",
    "    result_dict = {}\n",
    "    for key, value in d.items():\n",
    "        result_dict[key] = key + str(value)\n",
    "    return result_dict\n",
    "\n",
    "# Example usage:\n",
    "my_dict = {'a': 1, 'b': 2, 'c': 3}\n",
    "result = append_keys_and_values(my_dict)\n",
    "print(\"Dictionary after appending keys and values:\", result)\n"
   ]
  },
  {
   "cell_type": "code",
   "execution_count": null,
   "metadata": {},
   "outputs": [],
   "source": [
    "# Python | Sort Python Dictionaries by Key or Value\n",
    "def sort_dict_by_key(dictionary):\n",
    "    sorted_dict = dict(sorted(dictionary.items()))\n",
    "    return sorted_dict\n",
    "\n",
    "def sort_dict_by_value(dictionary):\n",
    "    sorted_dict = dict(sorted(dictionary.items(), key=lambda item: item[1]))\n",
    "    return sorted_dict\n",
    "\n",
    "# Example usage:\n",
    "my_dict = {'b': 2, 'a': 1, 'c': 3}\n",
    "result_by_key = sort_dict_by_key(my_dict)\n",
    "result_by_value = sort_dict_by_value(my_dict)\n",
    "print(\"Dictionary sorted by key:\", result_by_key)\n",
    "print(\"Dictionary sorted by value:\", result_by_value)\n"
   ]
  },
  {
   "cell_type": "code",
   "execution_count": null,
   "metadata": {},
   "outputs": [],
   "source": [
    "# Python – Sort Dictionary key and values List\n",
    "def sort_dict_key_and_values(dictionary):\n",
    "    sorted_items = sorted(dictionary.items())\n",
    "    sorted_dict = dict(sorted_items)\n",
    "    return sorted_dict\n",
    "\n",
    "# Example usage:\n",
    "my_dict = {'b': [2, 4, 1], 'a': [1, 3, 2], 'c': [3, 1, 4]}\n",
    "result = sort_dict_key_and_values(my_dict)\n",
    "print(\"Dictionary with keys and values sorted:\", result)\n"
   ]
  },
  {
   "cell_type": "code",
   "execution_count": null,
   "metadata": {},
   "outputs": [],
   "source": [
    "# Handling missing keys in Python dictionaries\n",
    "def handle_missing_keys(dictionary, key, default_value):\n",
    "    value = dictionary.get(key, default_value)\n",
    "    return value\n",
    "\n",
    "# Example usage:\n",
    "my_dict = {'a': 1, 'b': 2, 'c': 3}\n",
    "key_to_check = input(\"Enter the key to check: \")\n",
    "default_value = int(input(\"Enter the default value: \"))\n",
    "result = handle_missing_keys(my_dict, key_to_check, default_value)\n",
    "print(f\"The value for key '{key_to_check}' is: {result}\")\n"
   ]
  },
  {
   "cell_type": "code",
   "execution_count": null,
   "metadata": {},
   "outputs": [],
   "source": [
    "# Python dictionary with keys having multiple inputs\n",
    "def create_multi_input_dict(keys, values):\n",
    "    multi_input_dict = dict(zip(keys, map(list, values)))\n",
    "    return multi_input_dict\n",
    "\n",
    "# Example usage:\n",
    "keys_list = ['a', 'b', 'c']\n",
    "values_list = [[1, 2, 3], [4, 5, 6], [7, 8, 9]]\n",
    "result = create_multi_input_dict(keys_list, values_list)\n",
    "print(\"Dictionary with keys having multiple inputs:\", result)\n"
   ]
  },
  {
   "cell_type": "code",
   "execution_count": null,
   "metadata": {},
   "outputs": [],
   "source": [
    "# Print anagrams together in Python using List and Dictionary\n",
    "from collections import defaultdict\n",
    "\n",
    "def print_anagrams(words_list):\n",
    "    grouped_anagrams = defaultdict(list)\n",
    "\n",
    "    for word in words_list:\n",
    "        sorted_word = ''.join(sorted(word))\n",
    "        grouped_anagrams[sorted_word].append(word)\n",
    "\n",
    "    for key, anagrams in grouped_anagrams.items():\n",
    "        print(\"Anagrams for {}: {}\".format(key, anagrams))\n",
    "\n",
    "# Example usage:\n",
    "words = [\"listen\", \"silent\", \"enlist\", \"tea\", \"ate\", \"eat\"]\n",
    "print_anagrams(words)\n"
   ]
  },
  {
   "cell_type": "code",
   "execution_count": null,
   "metadata": {},
   "outputs": [],
   "source": [
    "# K’th Non-repeating Character in Python using List Comprehension and OrderedDict\n",
    "from collections import OrderedDict, Counter\n",
    "\n",
    "def kth_non_repeating_character(s, k):\n",
    "    char_count = Counter(s)\n",
    "    non_repeating_chars = [char for char, count in char_count.items() if count == 1]\n",
    "\n",
    "    if len(non_repeating_chars) >= k:\n",
    "        return non_repeating_chars[k - 1]\n",
    "    else:\n",
    "        return \"No non-repeating character found at position {}\".format(k)\n",
    "\n",
    "# Example usage:\n",
    "string = input(\"Enter a string: \")\n",
    "position = int(input(\"Enter the position (k): \"))\n",
    "result = kth_non_repeating_character(string, position)\n",
    "print(\"K'th non-repeating character:\", result)\n"
   ]
  },
  {
   "cell_type": "code",
   "execution_count": null,
   "metadata": {},
   "outputs": [],
   "source": [
    "# Check if binary representations of two numbers are anagrams\n",
    "def are_binary_anagrams(num1, num2):\n",
    "    binary1 = bin(num1)[2:]\n",
    "    binary2 = bin(num2)[2:]\n",
    "\n",
    "    return sorted(binary1) == sorted(binary2)\n",
    "\n",
    "# Example usage:\n",
    "number1 = int(input(\"Enter the first number: \"))\n",
    "number2 = int(input(\"Enter the second number: \"))\n",
    "result = are_binary_anagrams(number1, number2)\n",
    "print(\"Are binary representations of {} and {} anagrams? {}\".format(number1, number2, result))\n"
   ]
  },
  {
   "cell_type": "code",
   "execution_count": null,
   "metadata": {},
   "outputs": [],
   "source": [
    "# Python Counter to find the size of the largest subset of anagram words\n",
    "from collections import Counter\n",
    "\n",
    "def largest_anagram_subset(words_list):\n",
    "    anagram_counter = Counter([''.join(sorted(word)) for word in words_list])\n",
    "    max_anagram_size = max(anagram_counter.values(), default=0)\n",
    "\n",
    "    return max_anagram_size\n",
    "\n",
    "# Example usage:\n",
    "words = [\"listen\", \"silent\", \"enlist\", \"tea\", \"ate\", \"eat\"]\n",
    "result = largest_anagram_subset(words)\n",
    "print(\"Size of the largest subset of anagram words:\", result)\n"
   ]
  },
  {
   "cell_type": "code",
   "execution_count": null,
   "metadata": {},
   "outputs": [],
   "source": [
    "# Python | Remove all duplicates words from a given sentence\n",
    "def remove_duplicate_words(sentence):\n",
    "    words = sentence.split()\n",
    "    unique_words = list(set(words))\n",
    "    unique_sentence = ' '.join(unique_words)\n",
    "    return unique_sentence\n",
    "\n",
    "# Example usage:\n",
    "sentence = input(\"Enter a sentence: \")\n",
    "result = remove_duplicate_words(sentence)\n",
    "print(\"Sentence after removing duplicate words:\", result)\n"
   ]
  },
  {
   "cell_type": "code",
   "execution_count": null,
   "metadata": {},
   "outputs": [],
   "source": [
    "# Python Dictionary to find mirror characters in a string\n",
    "def find_mirror_characters(s):\n",
    "    mirror_dict = {'a': 'z', 'b': 'y', 'c': 'x', 'd': 'w', 'e': 'v',\n",
    "                   'f': 'u', 'g': 't', 'h': 's', 'i': 'r', 'j': 'q',\n",
    "                   'k': 'p', 'l': 'o', 'm': 'n', 'n': 'm', 'o': 'l',\n",
    "                   'p': 'k', 'q': 'j', 'r': 'i', 's': 'h', 't': 'g',\n",
    "                   'u': 'f', 'v': 'e', 'w': 'd', 'x': 'c', 'y': 'b', 'z': 'a'}\n",
    "\n",
    "    mirrored_string = ''.join(mirror_dict[char] if char in mirror_dict else char for char in s)\n",
    "    return mirrored_string\n",
    "\n",
    "# Example usage:\n",
    "string = input(\"Enter a string: \")\n",
    "result = find_mirror_characters(string)\n",
    "print(\"String after finding mirror characters:\", result)\n"
   ]
  },
  {
   "cell_type": "code",
   "execution_count": null,
   "metadata": {},
   "outputs": [],
   "source": [
    "# Counting the frequencies in a list using a dictionary in Python\n",
    "def count_frequencies(my_list):\n",
    "    frequency_dict = {}\n",
    "\n",
    "    for item in my_list:\n",
    "        if item in frequency_dict:\n",
    "            frequency_dict[item] += 1\n",
    "        else:\n",
    "            frequency_dict[item] = 1\n",
    "\n",
    "    return frequency_dict\n",
    "\n",
    "# Example usage:\n",
    "my_list = [1, 2, 2, 3, 3, 3, 4, 4, 4, 4]\n",
    "result = count_frequencies(my_list)\n",
    "print(\"Frequencies of elements in the list:\", result)\n"
   ]
  },
  {
   "cell_type": "code",
   "execution_count": null,
   "metadata": {},
   "outputs": [],
   "source": [
    "# Python | Convert a list of Tuples into Dictionary\n",
    "def convert_to_dictionary(tuple_list):\n",
    "    dict_result = dict(tuple_list)\n",
    "    return dict_result\n",
    "\n",
    "# Example usage:\n",
    "tuple_list = [('a', 1), ('b', 2), ('c', 3)]\n",
    "result = convert_to_dictionary(tuple_list)\n",
    "print(\"Dictionary from list of tuples:\", result)\n"
   ]
  },
  {
   "cell_type": "code",
   "execution_count": null,
   "metadata": {},
   "outputs": [],
   "source": [
    "# Python counter and dictionary intersection example (Make a string using deletion and rearrangement)\n",
    "from collections import Counter\n",
    "\n",
    "def can_make_string(s1, s2):\n",
    "    counter1 = Counter(s1)\n",
    "    counter2 = Counter(s2)\n",
    "\n",
    "    intersection = counter1 & counter2\n",
    "\n",
    "    return len(intersection) == len(counter1)\n",
    "\n",
    "# Example usage:\n",
    "string1 = input(\"Enter the first string: \")\n",
    "string2 = input(\"Enter the second string: \")\n",
    "result = can_make_string(string1, string2)\n",
    "if result:\n",
    "    print(\"String 1 can be made using deletion and rearrangement of characters from String 2.\")\n",
    "else:\n",
    "    print(\"String 1 cannot be made using deletion and rearrangement of characters from String 2.\")\n"
   ]
  },
  {
   "cell_type": "code",
   "execution_count": null,
   "metadata": {},
   "outputs": [],
   "source": [
    "# Python dictionary, set, and counter to check if frequencies can become same\n",
    "from collections import Counter\n",
    "\n",
    "def can_frequencies_become_same(s):\n",
    "    char_count = Counter(s)\n",
    "    frequency_set = set(char_count.values())\n",
    "\n",
    "    return len(frequency_set) == 1 or (len(frequency_set) == 2 and (1 in frequency_set or abs(max(frequency_set) - min(frequency_set)) == 1))\n",
    "\n",
    "# Example usage:\n",
    "string = input(\"Enter a string: \")\n",
    "result = can_frequencies_become_same(string)\n",
    "if result:\n",
    "    print(\"Frequencies can become the same.\")\n",
    "else:\n",
    "    print(\"Frequencies cannot become the same.\")\n"
   ]
  },
  {
   "cell_type": "code",
   "execution_count": null,
   "metadata": {},
   "outputs": [],
   "source": [
    "# Scraping And Finding Ordered Words In A Dictionary using Python\n",
    "import requests\n",
    "\n",
    "def find_ordered_words():\n",
    "    response = requests.get('https://www.mit.edu/~ecprice/wordlist.10000')\n",
    "    words_list = response.content.decode('utf-8').splitlines()\n",
    "\n",
    "    ordered_words = [word for word in words_list if ''.join(sorted(word)) == word]\n",
    "\n",
    "    return ordered_words\n",
    "\n",
    "# Example usage:\n",
    "result = find_ordered_words()\n",
    "print(\"Ordered words in the dictionary:\", result)\n"
   ]
  },
  {
   "cell_type": "code",
   "execution_count": null,
   "metadata": {},
   "outputs": [],
   "source": [
    "# Possible Words using given characters in Python\n",
    "from itertools import permutations\n",
    "\n",
    "def possible_words(characters):\n",
    "    all_permutations = permutations(characters)\n",
    "    words = [''.join(permutation) for permutation in all_permutations]\n",
    "    return words\n",
    "\n",
    "# Example usage:\n",
    "input_characters = input(\"Enter the characters: \")\n",
    "result = possible_words(input_characters)\n",
    "print(\"Possible words using given characters:\", result)\n"
   ]
  },
  {
   "cell_type": "code",
   "execution_count": null,
   "metadata": {},
   "outputs": [],
   "source": [
    "# Python – Keys associated with Values in Dictionary\n",
    "def keys_associated_with_values(dictionary, values):\n",
    "    keys_list = [key for key, value in dictionary.items() if value in values]\n",
    "    return keys_list\n",
    "\n",
    "# Example usage:\n",
    "my_dict = {'a': 1, 'b': 2, 'c': 3, 'd': 2}\n",
    "values_to_check = [2, 3]\n",
    "result = keys_associated_with_values(my_dict, values_to_check)\n",
    "print(\"Keys associated with values:\", result)\n"
   ]
  }
 ],
 "metadata": {
  "language_info": {
   "name": "python"
  }
 },
 "nbformat": 4,
 "nbformat_minor": 2
}
