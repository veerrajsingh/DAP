{
 "cells": [
  {
   "cell_type": "code",
   "execution_count": null,
   "metadata": {},
   "outputs": [],
   "source": [
    "# Program to check if a string is palindrome or not\n",
    "def is_palindrome(s):\n",
    "    return s == s[::-1]\n",
    "\n",
    "# Example usage:\n",
    "string = input(\"Enter a string: \")\n",
    "result = is_palindrome(string)\n",
    "if result:\n",
    "    print(\"The string is a palindrome.\")\n",
    "else:\n",
    "    print(\"The string is not a palindrome.\")\n"
   ]
  },
  {
   "cell_type": "code",
   "execution_count": null,
   "metadata": {},
   "outputs": [],
   "source": [
    "# Program to check whether the string is Symmetrical or Palindrome\n",
    "def is_symmetrical_and_palindrome(s):\n",
    "    return s == s[::-1] and s == s[::-1]\n",
    "\n",
    "# Example usage:\n",
    "string = input(\"Enter a string: \")\n",
    "result = is_symmetrical_and_palindrome(string)\n",
    "if result:\n",
    "    print(\"The string is both symmetrical and palindrome.\")\n",
    "else:\n",
    "    print(\"The string is not symmetrical and palindrome.\")\n"
   ]
  },
  {
   "cell_type": "code",
   "execution_count": null,
   "metadata": {},
   "outputs": [],
   "source": [
    "# Reverse words in a given String in Python\n",
    "def reverse_words(s):\n",
    "    words = s.split()\n",
    "    reversed_string = ' '.join(reversed(words))\n",
    "    return reversed_string\n",
    "\n",
    "# Example usage:\n",
    "string = input(\"Enter a string: \")\n",
    "result = reverse_words(string)\n",
    "print(\"String after reversing words:\", result)\n"
   ]
  },
  {
   "cell_type": "code",
   "execution_count": null,
   "metadata": {},
   "outputs": [],
   "source": [
    "# Ways to remove i’th character from string in Python\n",
    "def remove_ith_character(s, i):\n",
    "    return s[:i] + s[i+1:]\n",
    "\n",
    "# Example usage:\n",
    "string = input(\"Enter a string: \")\n",
    "index = int(input(\"Enter the index of the character to remove: \"))\n",
    "result = remove_ith_character(string, index)\n",
    "print(\"String after removing the character:\", result)\n"
   ]
  },
  {
   "cell_type": "code",
   "execution_count": null,
   "metadata": {},
   "outputs": [],
   "source": [
    "# Python | Check if a Substring is Present in a Given String\n",
    "def is_substring_present(s, substring):\n",
    "    return substring in s\n",
    "\n",
    "# Example usage:\n",
    "string = input(\"Enter a string: \")\n",
    "substring = input(\"Enter a substring to check: \")\n",
    "result = is_substring_present(string, substring)\n",
    "if result:\n",
    "    print(f\"The substring '{substring}' is present in the string.\")\n",
    "else:\n",
    "    print(f\"The substring '{substring}' is not present in the string.\")\n"
   ]
  },
  {
   "cell_type": "code",
   "execution_count": null,
   "metadata": {},
   "outputs": [],
   "source": [
    "# Python – Words Frequency in String Shorthands\n",
    "def words_frequency(s):\n",
    "    word_count = {}\n",
    "    words = s.split()\n",
    "\n",
    "    for word in words:\n",
    "        word_count[word] = word_count.get(word, 0) + 1\n",
    "\n",
    "    return word_count\n",
    "\n",
    "# Example usage:\n",
    "string = \"Python is easy and Python is powerful\"\n",
    "result = words_frequency(string)\n",
    "print(\"Word frequency in the string:\", result)\n"
   ]
  },
  {
   "cell_type": "code",
   "execution_count": null,
   "metadata": {},
   "outputs": [],
   "source": [
    "# Python – Convert Snake case to Pascal case\n",
    "def snake_to_pascal(s):\n",
    "    words = s.split('_')\n",
    "    pascal_case = ''.join(word.capitalize() for word in words)\n",
    "    return pascal_case\n",
    "\n",
    "# Example usage:\n",
    "snake_case_string = input(\"Enter a snake_case string: \")\n",
    "result = snake_to_pascal(snake_case_string)\n",
    "print(\"Pascal case conversion:\", result)\n"
   ]
  },
  {
   "cell_type": "code",
   "execution_count": null,
   "metadata": {},
   "outputs": [],
   "source": [
    "# Find length of a string in python (4 ways)\n",
    "def find_length(s):\n",
    "    # Method 1: Using len() function\n",
    "    length1 = len(s)\n",
    "\n",
    "    # Method 2: Using iterative approach\n",
    "    length2 = 0\n",
    "    for char in s:\n",
    "        length2 += 1\n",
    "\n",
    "    # Method 3: Using while loop\n",
    "    length3 = 0\n",
    "    while s[length3:]:\n",
    "        length3 += 1\n",
    "\n",
    "    # Method 4: Using recursion\n",
    "    def recursive_length(s):\n",
    "        if not s:\n",
    "            return 0\n",
    "        return 1 + recursive_length(s[1:])\n",
    "\n",
    "    length4 = recursive_length(s)\n",
    "\n",
    "    return length1, length2, length3, length4\n",
    "\n",
    "# Example usage:\n",
    "string = input(\"Enter a string: \")\n",
    "result = find_length(string)\n",
    "print(\"Length of the string using different methods:\", result)\n"
   ]
  },
  {
   "cell_type": "code",
   "execution_count": null,
   "metadata": {},
   "outputs": [],
   "source": [
    "# Python program to print even length words in a string\n",
    "def even_length_words(s):\n",
    "    words = s.split()\n",
    "    even_length_words_list = [word for word in words if len(word) % 2 == 0]\n",
    "    return even_length_words_list\n",
    "\n",
    "# Example usage:\n",
    "string = input(\"Enter a string: \")\n",
    "result = even_length_words(string)\n",
    "print(\"Even length words in the string:\", result)\n"
   ]
  },
  {
   "cell_type": "code",
   "execution_count": null,
   "metadata": {},
   "outputs": [],
   "source": [
    "# Python program to accept the strings which contain all vowels\n",
    "def contains_all_vowels(s):\n",
    "    vowels = set(\"aeiouAEIOU\")\n",
    "    return all(vowel in s for vowel in vowels)\n",
    "\n",
    "# Example usage:\n",
    "string = input(\"Enter a string: \")\n",
    "result = contains_all_vowels(string)\n",
    "if result:\n",
    "    print(\"The string contains all vowels.\")\n",
    "else:\n",
    "    print(\"The string does not contain all vowels.\")\n"
   ]
  },
  {
   "cell_type": "code",
   "execution_count": null,
   "metadata": {},
   "outputs": [],
   "source": [
    "# Python | Count the Number of matching characters in a pair of string\n",
    "def count_matching_characters(str1, str2):\n",
    "    return sum(1 for char1, char2 in zip(str1, str2) if char1 == char2)\n",
    "\n",
    "# Example usage:\n",
    "string1 = input(\"Enter the first string: \")\n",
    "string2 = input(\"Enter the second string: \")\n",
    "result = count_matching_characters(string1, string2)\n",
    "print(\"Number of matching characters:\", result)\n"
   ]
  },
  {
   "cell_type": "code",
   "execution_count": null,
   "metadata": {},
   "outputs": [],
   "source": [
    "# Remove all duplicates from a given string in Python\n",
    "def remove_duplicates(s):\n",
    "    return ''.join(sorted(set(s), key=s.index))\n",
    "\n",
    "# Example usage:\n",
    "string = input(\"Enter a string: \")\n",
    "result = remove_duplicates(string)\n",
    "print(\"String after removing duplicates:\", result)\n"
   ]
  },
  {
   "cell_type": "code",
   "execution_count": null,
   "metadata": {},
   "outputs": [],
   "source": [
    "# Python – Least Frequent Character in String\n",
    "from collections import Counter\n",
    "\n",
    "def least_frequent_character(s):\n",
    "    char_count = Counter(s)\n",
    "    least_frequent_char = min(char_count, key=char_count.get)\n",
    "    return least_frequent_char\n",
    "\n",
    "# Example usage:\n",
    "string = input(\"Enter a string: \")\n",
    "result = least_frequent_character(string)\n",
    "print(\"Least frequent character in the string:\", result)\n"
   ]
  },
  {
   "cell_type": "code",
   "execution_count": null,
   "metadata": {},
   "outputs": [],
   "source": [
    "# Python | Maximum frequency character in String\n",
    "from collections import Counter\n",
    "\n",
    "def max_frequency_character(s):\n",
    "    char_count = Counter(s)\n",
    "    max_frequency_char = max(char_count, key=char_count.get)\n",
    "    return max_frequency_char\n",
    "\n",
    "# Example usage:\n",
    "string = input(\"Enter a string: \")\n",
    "result = max_frequency_character(string)\n",
    "print(\"Maximum frequency character in the string:\", result)\n"
   ]
  },
  {
   "cell_type": "code",
   "execution_count": null,
   "metadata": {},
   "outputs": [],
   "source": [
    "# Python | Program to check if a string contains any special character\n",
    "import string\n",
    "\n",
    "def contains_special_character(s):\n",
    "    special_characters = set(string.punctuation)\n",
    "    return any(char in special_characters for char in s)\n",
    "\n",
    "# Example usage:\n",
    "string = input(\"Enter a string: \")\n",
    "result = contains_special_character(string)\n",
    "if result:\n",
    "    print(\"The string contains special characters.\")\n",
    "else:\n",
    "    print(\"The string does not contain any special characters.\")\n"
   ]
  },
  {
   "cell_type": "code",
   "execution_count": null,
   "metadata": {},
   "outputs": [],
   "source": [
    "# Generating random strings until a given string is generated\n",
    "import random\n",
    "import string\n",
    "\n",
    "def generate_random_string(length):\n",
    "    return ''.join(random.choice(string.ascii_letters) for _ in range(length))\n",
    "\n",
    "def generate_until_match(target_string):\n",
    "    generated_string = \"\"\n",
    "    while generated_string != target_string:\n",
    "        generated_string = generate_random_string(len(target_string))\n",
    "        print(\"Generated String:\", generated_string)\n",
    "\n",
    "# Example usage:\n",
    "target_string = input(\"Enter the target string: \")\n",
    "generate_until_match(target_string)\n"
   ]
  },
  {
   "cell_type": "code",
   "execution_count": null,
   "metadata": {},
   "outputs": [],
   "source": [
    "# Find words which are greater than given length k\n",
    "def words_greater_than_k(s, k):\n",
    "    words = s.split()\n",
    "    result = [word for word in words if len(word) > k]\n",
    "    return result\n",
    "\n",
    "# Example usage:\n",
    "string = input(\"Enter a string: \")\n",
    "length_k = int(input(\"Enter the length k: \"))\n",
    "result = words_greater_than_k(string, length_k)\n",
    "print(f\"Words greater than length {length_k}:\", result)\n"
   ]
  },
  {
   "cell_type": "code",
   "execution_count": null,
   "metadata": {},
   "outputs": [],
   "source": [
    "# Python program for removing i-th character from a string\n",
    "def remove_ith_character(s, i):\n",
    "    return s[:i] + s[i+1:]\n",
    "\n",
    "# Example usage:\n",
    "string = input(\"Enter a string: \")\n",
    "index = int(input(\"Enter the index of the character to remove: \"))\n",
    "result = remove_ith_character(string, index)\n",
    "print(\"String after removing the character:\", result)\n"
   ]
  },
  {
   "cell_type": "code",
   "execution_count": null,
   "metadata": {},
   "outputs": [],
   "source": [
    "# Python program to split and join a string\n",
    "def split_and_join(s):\n",
    "    words = s.split()\n",
    "    joined_string = '-'.join(words)\n",
    "    return joined_string\n",
    "\n",
    "# Example usage:\n",
    "string = input(\"Enter a string: \")\n",
    "result = split_and_join(string)\n",
    "print(\"String after split and join:\", result)\n"
   ]
  },
  {
   "cell_type": "code",
   "execution_count": null,
   "metadata": {},
   "outputs": [],
   "source": [
    "# Python | Check if a given string is a binary string or not\n",
    "def is_binary_string(s):\n",
    "    return all(bit in '01' for bit in s)\n",
    "\n",
    "# Example usage:\n",
    "string = input(\"Enter a string: \")\n",
    "result = is_binary_string(string)\n",
    "if result:\n",
    "    print(\"The string is a binary string.\")\n",
    "else:\n",
    "    print(\"The string is not a binary string.\")\n"
   ]
  },
  {
   "cell_type": "code",
   "execution_count": null,
   "metadata": {},
   "outputs": [],
   "source": [
    "# Python program to find uncommon words from two Strings\n",
    "def uncommon_words(str1, str2):\n",
    "    set1 = set(str1.split())\n",
    "    set2 = set(str2.split())\n",
    "    uncommon_set = set1.symmetric_difference(set2)\n",
    "    return list(uncommon_set)\n",
    "\n",
    "# Example usage:\n",
    "string1 = input(\"Enter the first string: \")\n",
    "string2 = input(\"Enter the second string: \")\n",
    "result = uncommon_words(string1, string2)\n",
    "print(\"Uncommon words:\", result)\n"
   ]
  },
  {
   "cell_type": "code",
   "execution_count": null,
   "metadata": {},
   "outputs": [],
   "source": [
    "# Python – Replace duplicate Occurrence in String\n",
    "from collections import Counter\n",
    "\n",
    "def replace_duplicate_occurrence(s):\n",
    "    char_count = Counter(s)\n",
    "    result = ''.join(char if char_count[char] == 1 else '$' for char in s)\n",
    "    return result\n",
    "\n",
    "# Example usage:\n",
    "string = input(\"Enter a string: \")\n",
    "result = replace_duplicate_occurrence(string)\n",
    "print(\"String after replacing duplicate occurrences:\", result)\n"
   ]
  },
  {
   "cell_type": "code",
   "execution_count": null,
   "metadata": {},
   "outputs": [],
   "source": [
    "# Python – Replace multiple words with K\n",
    "def replace_words_with_k(s, words, k):\n",
    "    for word in words:\n",
    "        s = s.replace(word, k)\n",
    "    return s\n",
    "\n",
    "# Example usage:\n",
    "string = input(\"Enter a string: \")\n",
    "replace_words = input(\"Enter words to replace (comma-separated): \").split(',')\n",
    "replace_with = input(\"Enter the replacement word: \")\n",
    "result = replace_words_with_k(string, replace_words, replace_with)\n",
    "print(\"String after replacement:\", result)\n"
   ]
  },
  {
   "cell_type": "code",
   "execution_count": null,
   "metadata": {},
   "outputs": [],
   "source": [
    "# Python | Permutation of a given string using inbuilt function\n",
    "from itertools import permutations\n",
    "\n",
    "def string_permutations(s):\n",
    "    return [''.join(perm) for perm in permutations(s)]\n",
    "\n",
    "# Example usage:\n",
    "string = input(\"Enter a string: \")\n",
    "result = string_permutations(string)\n",
    "print(\"Permutations of the string:\", result)\n"
   ]
  },
  {
   "cell_type": "code",
   "execution_count": null,
   "metadata": {},
   "outputs": [],
   "source": [
    "# Python | Check for URL in a String\n",
    "import re\n",
    "\n",
    "def contains_url(s):\n",
    "    pattern = re.compile(r'https?://\\S+|www\\.\\S+')\n",
    "    return bool(re.search(pattern, s))\n",
    "\n",
    "# Example usage:\n",
    "string = input(\"Enter a string: \")\n",
    "result = contains_url(string)\n",
    "if result:\n",
    "    print(\"The string contains a URL.\")\n",
    "else:\n",
    "    print(\"The string does not contain a URL.\")\n"
   ]
  },
  {
   "cell_type": "code",
   "execution_count": null,
   "metadata": {},
   "outputs": [],
   "source": [
    "# Execute a String of Code in Python\n",
    "def execute_code(code_string):\n",
    "    exec(code_string)\n",
    "\n",
    "# Example usage:\n",
    "code = input(\"Enter a Python code string: \")\n",
    "execute_code(code)\n"
   ]
  },
  {
   "cell_type": "code",
   "execution_count": null,
   "metadata": {},
   "outputs": [],
   "source": [
    "# String slicing in Python to rotate a string\n",
    "def rotate_string(s, k):\n",
    "    return s[k:] + s[:k]\n",
    "\n",
    "# Example usage:\n",
    "string = input(\"Enter a string: \")\n",
    "rotation_steps = int(input(\"Enter the number of rotation steps: \"))\n",
    "result = rotate_string(string, rotation_steps)\n",
    "print(\"String after rotation:\", result)\n"
   ]
  },
  {
   "cell_type": "code",
   "execution_count": null,
   "metadata": {},
   "outputs": [],
   "source": [
    "# String slicing in Python to check if a string can become empty by recursive deletion\n",
    "def can_become_empty(s):\n",
    "    while '()' in s or '[]' in s or '{}' in s:\n",
    "        s = s.replace('()', '').replace('[]', '').replace('{}', '')\n",
    "    return not s\n",
    "\n",
    "# Example usage:\n",
    "string = input(\"Enter a string: \")\n",
    "result = can_become_empty(string)\n",
    "if result:\n",
    "    print(\"The string can become empty by recursive deletion.\")\n",
    "else:\n",
    "    print(\"The string cannot become empty by recursive deletion.\")\n"
   ]
  },
  {
   "cell_type": "code",
   "execution_count": null,
   "metadata": {},
   "outputs": [],
   "source": [
    "# Python Counter| Find all duplicate characters in a string\n",
    "from collections import Counter\n",
    "\n",
    "def find_duplicates(s):\n",
    "    char_count = Counter(s)\n",
    "    duplicates = [char for char, count in char_count.items() if count > 1]\n",
    "    return duplicates\n",
    "\n",
    "# Example usage:\n",
    "string = input(\"Enter a string: \")\n",
    "result = find_duplicates(string)\n",
    "print(\"Duplicate characters in the string:\", result)\n"
   ]
  },
  {
   "cell_type": "code",
   "execution_count": null,
   "metadata": {},
   "outputs": [],
   "source": [
    "# Python – Replace all occurrences of a substring in a string\n",
    "def replace_all_occurrences(s, old_substring, new_substring):\n",
    "    return s.replace(old_substring, new_substring)\n",
    "\n",
    "# Example usage:\n",
    "string = input(\"Enter a string: \")\n",
    "old_substring = input(\"Enter the old substring to replace: \")\n",
    "new_substring = input(\"Enter the new substring: \")\n",
    "result = replace_all_occurrences(string, old_substring, new_substring)\n",
    "print(\"String after replacement:\", result)\n"
   ]
  }
 ],
 "metadata": {
  "language_info": {
   "name": "python"
  }
 },
 "nbformat": 4,
 "nbformat_minor": 2
}
